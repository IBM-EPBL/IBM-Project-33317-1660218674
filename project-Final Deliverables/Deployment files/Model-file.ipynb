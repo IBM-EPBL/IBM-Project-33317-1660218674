{
  "cells": [
    {
      "cell_type": "markdown",
      "source": [
        "#Team ID: PNT2022TMID07752"
      ],
      "metadata": {
        "id": "xizKl8Ol2Rq8"
      },
      "id": "xizKl8Ol2Rq8"
    },
    {
      "cell_type": "code",
      "execution_count": null,
      "id": "1e417353",
      "metadata": {
        "id": "1e417353",
        "outputId": "ba1e2717-700b-4f25-a7ef-a32863a691f7"
      },
      "outputs": [
        {
          "name": "stdout",
          "output_type": "stream",
          "text": [
            "Requirement already satisfied: ibm_watson_machine_learning in c:\\users\\darsh\\anaconda3\\lib\\site-packages (1.0.210)\n",
            "Requirement already satisfied: packaging in c:\\users\\darsh\\anaconda3\\lib\\site-packages (from ibm_watson_machine_learning) (21.0)\n",
            "Requirement already satisfied: importlib-metadata in c:\\users\\darsh\\anaconda3\\lib\\site-packages (from ibm_watson_machine_learning) (4.8.1)\n",
            "Requirement already satisfied: requests in c:\\users\\darsh\\anaconda3\\lib\\site-packages (from ibm_watson_machine_learning) (2.26.0)\n",
            "Requirement already satisfied: tabulate in c:\\users\\darsh\\anaconda3\\lib\\site-packages (from ibm_watson_machine_learning) (0.8.9)\n",
            "Requirement already satisfied: ibm-cos-sdk==2.11.* in c:\\users\\darsh\\anaconda3\\lib\\site-packages (from ibm_watson_machine_learning) (2.11.0)\n",
            "Requirement already satisfied: urllib3 in c:\\users\\darsh\\anaconda3\\lib\\site-packages (from ibm_watson_machine_learning) (1.26.7)\n",
            "Requirement already satisfied: pandas<1.4.0,>=0.24.2 in c:\\users\\darsh\\anaconda3\\lib\\site-packages (from ibm_watson_machine_learning) (1.3.4)\n",
            "Requirement already satisfied: certifi in c:\\users\\darsh\\anaconda3\\lib\\site-packages (from ibm_watson_machine_learning) (2021.10.8)\n",
            "Requirement already satisfied: lomond in c:\\users\\darsh\\anaconda3\\lib\\site-packages (from ibm_watson_machine_learning) (0.3.3)\n",
            "Requirement already satisfied: jmespath<1.0.0,>=0.7.1 in c:\\users\\darsh\\anaconda3\\lib\\site-packages (from ibm-cos-sdk==2.11.*->ibm_watson_machine_learning) (0.10.0)\n",
            "Requirement already satisfied: ibm-cos-sdk-core==2.11.0 in c:\\users\\darsh\\anaconda3\\lib\\site-packages (from ibm-cos-sdk==2.11.*->ibm_watson_machine_learning) (2.11.0)\n",
            "Requirement already satisfied: ibm-cos-sdk-s3transfer==2.11.0 in c:\\users\\darsh\\anaconda3\\lib\\site-packages (from ibm-cos-sdk==2.11.*->ibm_watson_machine_learning) (2.11.0)\n",
            "Requirement already satisfied: python-dateutil<3.0.0,>=2.1 in c:\\users\\darsh\\anaconda3\\lib\\site-packages (from ibm-cos-sdk-core==2.11.0->ibm-cos-sdk==2.11.*->ibm_watson_machine_learning) (2.8.2)\n",
            "Requirement already satisfied: pytz>=2017.3 in c:\\users\\darsh\\anaconda3\\lib\\site-packages (from pandas<1.4.0,>=0.24.2->ibm_watson_machine_learning) (2021.3)\n",
            "Requirement already satisfied: numpy>=1.17.3 in c:\\users\\darsh\\anaconda3\\lib\\site-packages (from pandas<1.4.0,>=0.24.2->ibm_watson_machine_learning) (1.20.3)\n",
            "Requirement already satisfied: six>=1.5 in c:\\users\\darsh\\anaconda3\\lib\\site-packages (from python-dateutil<3.0.0,>=2.1->ibm-cos-sdk-core==2.11.0->ibm-cos-sdk==2.11.*->ibm_watson_machine_learning) (1.16.0)\n",
            "Requirement already satisfied: idna<4,>=2.5 in c:\\users\\darsh\\anaconda3\\lib\\site-packages (from requests->ibm_watson_machine_learning) (3.2)\n",
            "Requirement already satisfied: charset-normalizer~=2.0.0 in c:\\users\\darsh\\anaconda3\\lib\\site-packages (from requests->ibm_watson_machine_learning) (2.0.4)\n",
            "Requirement already satisfied: zipp>=0.5 in c:\\users\\darsh\\anaconda3\\lib\\site-packages (from importlib-metadata->ibm_watson_machine_learning) (3.6.0)\n",
            "Requirement already satisfied: pyparsing>=2.0.2 in c:\\users\\darsh\\anaconda3\\lib\\site-packages (from packaging->ibm_watson_machine_learning) (3.0.4)\n",
            "Note: you may need to restart the kernel to use updated packages.\n"
          ]
        }
      ],
      "source": [
        "pip install ibm_watson_machine_learning"
      ]
    },
    {
      "cell_type": "code",
      "execution_count": 1,
      "id": "e6def044",
      "metadata": {
        "colab": {
          "base_uri": "https://localhost:8080/",
          "height": 375
        },
        "id": "e6def044",
        "outputId": "5792240b-696b-4bf2-8225-dbfd8d90528a"
      },
      "outputs": [
        {
          "output_type": "error",
          "ename": "ModuleNotFoundError",
          "evalue": "ignored",
          "traceback": [
            "\u001b[0;31m---------------------------------------------------------------------------\u001b[0m",
            "\u001b[0;31mModuleNotFoundError\u001b[0m                       Traceback (most recent call last)",
            "\u001b[0;32m<ipython-input-1-e89a46465285>\u001b[0m in \u001b[0;36m<module>\u001b[0;34m\u001b[0m\n\u001b[0;32m----> 1\u001b[0;31m \u001b[0;32mfrom\u001b[0m \u001b[0mibm_watson_machine_learning\u001b[0m \u001b[0;32mimport\u001b[0m \u001b[0mAPIClient\u001b[0m\u001b[0;34m\u001b[0m\u001b[0;34m\u001b[0m\u001b[0m\n\u001b[0m\u001b[1;32m      2\u001b[0m wml_credentials={\n\u001b[1;32m      3\u001b[0m     \u001b[0;34m\"url\"\u001b[0m\u001b[0;34m:\u001b[0m\u001b[0;34m\"https://us-south.ml.cloud.ibm.com\"\u001b[0m\u001b[0;34m,\u001b[0m\u001b[0;34m\u001b[0m\u001b[0;34m\u001b[0m\u001b[0m\n\u001b[1;32m      4\u001b[0m     \u001b[0;34m\"apikey\"\u001b[0m\u001b[0;34m:\u001b[0m\u001b[0;34m\"nYpdCnUh2oai8TfRIynB7V0uV4Hupcmt5FxAWxPTg1zb\"\u001b[0m\u001b[0;34m\u001b[0m\u001b[0;34m\u001b[0m\u001b[0m\n\u001b[1;32m      5\u001b[0m }\n",
            "\u001b[0;31mModuleNotFoundError\u001b[0m: No module named 'ibm_watson_machine_learning'",
            "",
            "\u001b[0;31m---------------------------------------------------------------------------\u001b[0;32m\nNOTE: If your import is failing due to a missing package, you can\nmanually install dependencies using either !pip or !apt.\n\nTo view examples of installing some common dependencies, click the\n\"Open Examples\" button below.\n\u001b[0;31m---------------------------------------------------------------------------\u001b[0m\n"
          ],
          "errorDetails": {
            "actions": [
              {
                "action": "open_url",
                "actionText": "Open Examples",
                "url": "/notebooks/snippets/importing_libraries.ipynb"
              }
            ]
          }
        }
      ],
      "source": [
        "from ibm_watson_machine_learning import APIClient\n",
        "wml_credentials={\n",
        "    \"url\":\"https://us-south.ml.cloud.ibm.com\",\n",
        "    \"apikey\":\"nYpdCnUh2oai8TfRIynB7V0uV4Hupcmt5FxAWxPTg1zb\"\n",
        "}\n",
        "\n",
        "client=APIClient(wml_credentials)"
      ]
    },
    {
      "cell_type": "code",
      "execution_count": null,
      "id": "cbb97b20",
      "metadata": {
        "id": "cbb97b20"
      },
      "outputs": [],
      "source": [
        "client = APIClient(wml_credentials)"
      ]
    },
    {
      "cell_type": "code",
      "execution_count": null,
      "id": "08a659e1",
      "metadata": {
        "id": "08a659e1"
      },
      "outputs": [],
      "source": [
        "def guid_space_name(client,Gesture):\n",
        "    space=client.spaces.get_details()\n",
        "    return(next(item for item in space['resources'] if item['entity']['name']==Gesture)['metadata']['id'])"
      ]
    },
    {
      "cell_type": "code",
      "execution_count": null,
      "id": "2ddd137a",
      "metadata": {
        "id": "2ddd137a",
        "outputId": "897312a5-b334-4d73-daa7-c263adb2fbe3"
      },
      "outputs": [
        {
          "name": "stdout",
          "output_type": "stream",
          "text": [
            "Space UID 549dc1c8-1f0b-43f7-a6d9-2956539b64a6\n"
          ]
        }
      ],
      "source": [
        "space_uid=guid_space_name(client,'Gesture')\n",
        "print(\"Space UID \"+space_uid)"
      ]
    },
    {
      "cell_type": "code",
      "execution_count": null,
      "id": "dbc24ca0",
      "metadata": {
        "id": "dbc24ca0",
        "outputId": "654017fa-8b46-4f4e-b97d-3267b3676b16"
      },
      "outputs": [
        {
          "data": {
            "text/plain": [
              "'SUCCESS'"
            ]
          },
          "execution_count": 7,
          "metadata": {},
          "output_type": "execute_result"
        }
      ],
      "source": [
        "client.set.default_space(space_uid)"
      ]
    },
    {
      "cell_type": "code",
      "execution_count": null,
      "id": "b913bf59",
      "metadata": {
        "id": "b913bf59",
        "outputId": "5365ed31-9ae1-4c1b-e79f-b97c0359b9e0"
      },
      "outputs": [
        {
          "name": "stdout",
          "output_type": "stream",
          "text": [
            "Successfully saved model content to file: 'Gesture.tar.gz'\n"
          ]
        },
        {
          "data": {
            "text/plain": [
              "'C:\\\\Users\\\\darsh\\\\OneDrive\\\\Pictures\\\\Desktop\\\\Smart Bridge\\\\Project Smart Interns\\\\IBM Files/Gesture.tar.gz'"
            ]
          },
          "execution_count": 8,
          "metadata": {},
          "output_type": "execute_result"
        }
      ],
      "source": [
        "client.repository.download(\"311d2317-4ede-4507-8cbf-451c147e9846\",\"Gesture.tar.gz\")"
      ]
    },
    {
      "cell_type": "code",
      "execution_count": null,
      "id": "16d3f1f0",
      "metadata": {
        "id": "16d3f1f0"
      },
      "outputs": [],
      "source": []
    }
  ],
  "metadata": {
    "kernelspec": {
      "display_name": "Python 3 (ipykernel)",
      "language": "python",
      "name": "python3"
    },
    "language_info": {
      "codemirror_mode": {
        "name": "ipython",
        "version": 3
      },
      "file_extension": ".py",
      "mimetype": "text/x-python",
      "name": "python",
      "nbconvert_exporter": "python",
      "pygments_lexer": "ipython3",
      "version": "3.9.7"
    },
    "colab": {
      "provenance": []
    }
  },
  "nbformat": 4,
  "nbformat_minor": 5
}